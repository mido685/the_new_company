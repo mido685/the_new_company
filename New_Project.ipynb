{
 "cells": [
  {
   "cell_type": "markdown",
   "id": "a138725e-a902-4188-b1f0-ee9563ab4a29",
   "metadata": {},
   "source": [
    "# Import libiraries"
   ]
  },
  {
   "cell_type": "code",
   "execution_count": 79,
   "id": "ad11fb50-e8c7-4887-a9a6-fc6c09d16e6c",
   "metadata": {},
   "outputs": [],
   "source": [
    "import pandas as pd \n",
    "import numpy as np \n",
    "from sklearn.linear_model import LinearRegression\n",
    "import matplotlib.pyplot as plt\n",
    "import seaborn as sns\n",
    "from sklearn.model_selection import train_test_split ,cross_val_score, KFold\n",
    "from sklearn.preprocessing import StandardScaler\n",
    "from sklearn.metrics import r2_score\n",
    "import plotly.express as px\n",
    "import streamlit as st"
   ]
  },
  {
   "cell_type": "markdown",
   "id": "2b282e35-5000-4436-8770-42f972c173ca",
   "metadata": {},
   "source": [
    "# Read the excel file"
   ]
  },
  {
   "cell_type": "code",
   "execution_count": 2,
   "id": "f8c34366-7563-4d5e-9a5e-7fe33e759eea",
   "metadata": {},
   "outputs": [],
   "source": [
    "df=pd.read_excel(r'D:\\branches\\the branch.xlsx')"
   ]
  },
  {
   "cell_type": "code",
   "execution_count": 3,
   "id": "6f623530-c74f-457f-a301-a1ea8c2aa191",
   "metadata": {},
   "outputs": [
    {
     "data": {
      "text/html": [
       "<div>\n",
       "<style scoped>\n",
       "    .dataframe tbody tr th:only-of-type {\n",
       "        vertical-align: middle;\n",
       "    }\n",
       "\n",
       "    .dataframe tbody tr th {\n",
       "        vertical-align: top;\n",
       "    }\n",
       "\n",
       "    .dataframe thead th {\n",
       "        text-align: right;\n",
       "    }\n",
       "</style>\n",
       "<table border=\"1\" class=\"dataframe\">\n",
       "  <thead>\n",
       "    <tr style=\"text-align: right;\">\n",
       "      <th></th>\n",
       "      <th>Date</th>\n",
       "      <th>item_name</th>\n",
       "      <th>unit</th>\n",
       "      <th>cost per unit</th>\n",
       "      <th>current_balance</th>\n",
       "      <th>Consumption</th>\n",
       "      <th>beganing</th>\n",
       "      <th>purchasing</th>\n",
       "      <th>ending</th>\n",
       "      <th>COGS</th>\n",
       "      <th>order receiving</th>\n",
       "    </tr>\n",
       "  </thead>\n",
       "  <tbody>\n",
       "    <tr>\n",
       "      <th>0</th>\n",
       "      <td>45383</td>\n",
       "      <td>Crunchy Granola</td>\n",
       "      <td>KG</td>\n",
       "      <td>105</td>\n",
       "      <td>127</td>\n",
       "      <td>5</td>\n",
       "      <td>132</td>\n",
       "      <td>NaN</td>\n",
       "      <td>127</td>\n",
       "      <td>525</td>\n",
       "      <td>25</td>\n",
       "    </tr>\n",
       "    <tr>\n",
       "      <th>1</th>\n",
       "      <td>45385</td>\n",
       "      <td>Crunchy Granola</td>\n",
       "      <td>KG</td>\n",
       "      <td>105</td>\n",
       "      <td>117</td>\n",
       "      <td>10</td>\n",
       "      <td>127</td>\n",
       "      <td>NaN</td>\n",
       "      <td>117</td>\n",
       "      <td>1050</td>\n",
       "      <td>35</td>\n",
       "    </tr>\n",
       "    <tr>\n",
       "      <th>2</th>\n",
       "      <td>45388</td>\n",
       "      <td>Crunchy Granola</td>\n",
       "      <td>KG</td>\n",
       "      <td>105</td>\n",
       "      <td>107</td>\n",
       "      <td>10</td>\n",
       "      <td>117</td>\n",
       "      <td>NaN</td>\n",
       "      <td>107</td>\n",
       "      <td>1050</td>\n",
       "      <td>55</td>\n",
       "    </tr>\n",
       "    <tr>\n",
       "      <th>3</th>\n",
       "      <td>45389</td>\n",
       "      <td>Crunchy Granola</td>\n",
       "      <td>KG</td>\n",
       "      <td>105</td>\n",
       "      <td>99</td>\n",
       "      <td>8</td>\n",
       "      <td>107</td>\n",
       "      <td>NaN</td>\n",
       "      <td>99</td>\n",
       "      <td>840</td>\n",
       "      <td>57</td>\n",
       "    </tr>\n",
       "    <tr>\n",
       "      <th>4</th>\n",
       "      <td>45390</td>\n",
       "      <td>Crunchy Granola</td>\n",
       "      <td>KG</td>\n",
       "      <td>105</td>\n",
       "      <td>94</td>\n",
       "      <td>5</td>\n",
       "      <td>99</td>\n",
       "      <td>NaN</td>\n",
       "      <td>94</td>\n",
       "      <td>525</td>\n",
       "      <td>65</td>\n",
       "    </tr>\n",
       "  </tbody>\n",
       "</table>\n",
       "</div>"
      ],
      "text/plain": [
       "    Date        item_name unit  cost per unit  current_balance  Consumption  \\\n",
       "0  45383  Crunchy Granola   KG            105              127            5   \n",
       "1  45385  Crunchy Granola   KG            105              117           10   \n",
       "2  45388  Crunchy Granola   KG            105              107           10   \n",
       "3  45389  Crunchy Granola   KG            105               99            8   \n",
       "4  45390  Crunchy Granola   KG            105               94            5   \n",
       "\n",
       "   beganing  purchasing  ending  COGS  order receiving  \n",
       "0       132         NaN     127   525               25  \n",
       "1       127         NaN     117  1050               35  \n",
       "2       117         NaN     107  1050               55  \n",
       "3       107         NaN      99   840               57  \n",
       "4        99         NaN      94   525               65  "
      ]
     },
     "execution_count": 3,
     "metadata": {},
     "output_type": "execute_result"
    }
   ],
   "source": [
    "df.head()"
   ]
  },
  {
   "cell_type": "code",
   "execution_count": 4,
   "id": "cf916ce1-3cc8-4ceb-b336-a994960d9c28",
   "metadata": {},
   "outputs": [
    {
     "data": {
      "text/plain": [
       "(23, 11)"
      ]
     },
     "execution_count": 4,
     "metadata": {},
     "output_type": "execute_result"
    }
   ],
   "source": [
    "# View the count of row and columns in the dataset\n",
    "df.shape"
   ]
  },
  {
   "cell_type": "code",
   "execution_count": 5,
   "id": "5ef6c771-4e6a-4867-9b6b-513eae9d140c",
   "metadata": {},
   "outputs": [
    {
     "name": "stdout",
     "output_type": "stream",
     "text": [
      "<class 'pandas.core.frame.DataFrame'>\n",
      "RangeIndex: 23 entries, 0 to 22\n",
      "Data columns (total 11 columns):\n",
      " #   Column           Non-Null Count  Dtype  \n",
      "---  ------           --------------  -----  \n",
      " 0   Date             23 non-null     int64  \n",
      " 1   item_name        23 non-null     object \n",
      " 2   unit             23 non-null     object \n",
      " 3   cost per unit    23 non-null     int64  \n",
      " 4   current_balance  23 non-null     int64  \n",
      " 5   Consumption      23 non-null     int64  \n",
      " 6   beganing         23 non-null     int64  \n",
      " 7   purchasing       1 non-null      float64\n",
      " 8   ending           23 non-null     int64  \n",
      " 9   COGS             23 non-null     int64  \n",
      " 10  order receiving  23 non-null     int64  \n",
      "dtypes: float64(1), int64(8), object(2)\n",
      "memory usage: 2.1+ KB\n"
     ]
    }
   ],
   "source": [
    "# View summary of the dataset \n",
    "df.info()"
   ]
  },
  {
   "cell_type": "code",
   "execution_count": 6,
   "id": "d9be0c95-c6ed-4efd-98bf-6c4902eef094",
   "metadata": {},
   "outputs": [],
   "source": [
    "# drop the redudant variables  \n",
    "df.drop(columns=['purchasing','Date'],axis=1,inplace=True)\n"
   ]
  },
  {
   "cell_type": "code",
   "execution_count": 7,
   "id": "4b842ecc-8162-45d6-9e07-6be9e333c321",
   "metadata": {},
   "outputs": [
    {
     "data": {
      "text/plain": [
       "(23, 9)"
      ]
     },
     "execution_count": 7,
     "metadata": {},
     "output_type": "execute_result"
    }
   ],
   "source": [
    "# check the shape after dropping \n",
    "df.shape"
   ]
  },
  {
   "cell_type": "code",
   "execution_count": 8,
   "id": "5fffe9af-63e9-4264-9855-7fbf38bf3779",
   "metadata": {},
   "outputs": [
    {
     "name": "stdout",
     "output_type": "stream",
     "text": [
      "       cost per unit  current_balance  Consumption  beganing  ending    COGS  \\\n",
      "count           23.0             23.0         23.0      23.0    23.0    23.0   \n",
      "mean           105.0             89.0         12.0      95.0    89.0  1223.0   \n",
      "std              0.0             39.0          8.0      38.0    39.0   855.0   \n",
      "min            105.0              0.0          0.0       0.0     0.0     0.0   \n",
      "25%            105.0             66.0          5.0      72.0    66.0   525.0   \n",
      "50%            105.0             94.0          9.0      99.0    94.0   945.0   \n",
      "75%            105.0            118.0         15.0     122.0   118.0  1575.0   \n",
      "max            105.0            150.0         30.0     150.0   150.0  3150.0   \n",
      "\n",
      "       order receiving  \n",
      "count             23.0  \n",
      "mean              60.0  \n",
      "std               36.0  \n",
      "min                0.0  \n",
      "25%               32.0  \n",
      "50%               57.0  \n",
      "75%               85.0  \n",
      "max              150.0  \n"
     ]
    }
   ],
   "source": [
    "# View the summary of statistacs of the numerical variables\n",
    "print(round(df.describe()))\n"
   ]
  },
  {
   "cell_type": "code",
   "execution_count": 9,
   "id": "188c8d99-7922-4b4d-ab82-0d51b4179709",
   "metadata": {},
   "outputs": [
    {
     "name": "stdout",
     "output_type": "stream",
     "text": [
      "item_name\n",
      "Crunchy Granola    23\n",
      "Name: count, dtype: int64\n",
      "unit\n",
      "Pcs       13\n",
      "KG         8\n",
      "Bottle     1\n",
      "Packet     1\n",
      "Name: count, dtype: int64\n",
      "cost per unit\n",
      "105    23\n",
      "Name: count, dtype: int64\n",
      "current_balance\n",
      "127    1\n",
      "117    1\n",
      "107    1\n",
      "99     1\n",
      "94     1\n",
      "89     1\n",
      "74     1\n",
      "69     1\n",
      "64     1\n",
      "49     1\n",
      "23     1\n",
      "0      1\n",
      "150    1\n",
      "145    1\n",
      "137    1\n",
      "126    1\n",
      "120    1\n",
      "113    1\n",
      "98     1\n",
      "90     1\n",
      "75     1\n",
      "55     1\n",
      "35     1\n",
      "Name: count, dtype: int64\n",
      "Consumption\n",
      "5     7\n",
      "15    3\n",
      "10    2\n",
      "8     2\n",
      "26    1\n",
      "23    1\n",
      "0     1\n",
      "9     1\n",
      "7     1\n",
      "12    1\n",
      "20    1\n",
      "25    1\n",
      "30    1\n",
      "Name: count, dtype: int64\n",
      "beganing\n",
      "132    1\n",
      "127    1\n",
      "117    1\n",
      "107    1\n",
      "99     1\n",
      "94     1\n",
      "89     1\n",
      "74     1\n",
      "69     1\n",
      "64     1\n",
      "49     1\n",
      "23     1\n",
      "0      1\n",
      "150    1\n",
      "145    1\n",
      "135    1\n",
      "125    1\n",
      "120    1\n",
      "110    1\n",
      "105    1\n",
      "95     1\n",
      "80     1\n",
      "65     1\n",
      "Name: count, dtype: int64\n",
      "ending\n",
      "127    1\n",
      "117    1\n",
      "107    1\n",
      "99     1\n",
      "94     1\n",
      "89     1\n",
      "74     1\n",
      "69     1\n",
      "64     1\n",
      "49     1\n",
      "23     1\n",
      "0      1\n",
      "150    1\n",
      "145    1\n",
      "137    1\n",
      "126    1\n",
      "120    1\n",
      "113    1\n",
      "98     1\n",
      "90     1\n",
      "75     1\n",
      "55     1\n",
      "35     1\n",
      "Name: count, dtype: int64\n",
      "COGS\n",
      "525     7\n",
      "1575    3\n",
      "1050    2\n",
      "840     2\n",
      "2730    1\n",
      "2415    1\n",
      "0       1\n",
      "945     1\n",
      "735     1\n",
      "1260    1\n",
      "2100    1\n",
      "2625    1\n",
      "3150    1\n",
      "Name: count, dtype: int64\n",
      "order receiving\n",
      "25     2\n",
      "55     2\n",
      "95     2\n",
      "85     2\n",
      "35     1\n",
      "57     1\n",
      "65     1\n",
      "80     1\n",
      "75     1\n",
      "90     1\n",
      "100    1\n",
      "150    1\n",
      "0      1\n",
      "5      1\n",
      "15     1\n",
      "30     1\n",
      "40     1\n",
      "45     1\n",
      "70     1\n",
      "Name: count, dtype: int64\n"
     ]
    }
   ],
   "source": [
    "# the frequency distribution of values in variables\n",
    "for var in df.columns:\n",
    "    print (df[var].value_counts())"
   ]
  },
  {
   "cell_type": "code",
   "execution_count": 10,
   "id": "5ac96018-eca5-4bf6-80b1-8b6d54efa3fb",
   "metadata": {},
   "outputs": [],
   "source": [
    "# check the data types of columns "
   ]
  },
  {
   "cell_type": "code",
   "execution_count": 11,
   "id": "14fbee7f-66ce-4c67-b494-e4041296b678",
   "metadata": {},
   "outputs": [
    {
     "data": {
      "text/plain": [
       "item_name          object\n",
       "unit               object\n",
       "cost per unit       int64\n",
       "current_balance     int64\n",
       "Consumption         int64\n",
       "beganing            int64\n",
       "ending              int64\n",
       "COGS                int64\n",
       "order receiving     int64\n",
       "dtype: object"
      ]
     },
     "execution_count": 11,
     "metadata": {},
     "output_type": "execute_result"
    }
   ],
   "source": [
    "df.dtypes"
   ]
  },
  {
   "cell_type": "markdown",
   "id": "c3487b7f-bb70-459f-a797-6ceaf4c56b48",
   "metadata": {},
   "source": [
    "## the summary of variables :\n",
    "* there are 7 numeric feature in the dataset .\n",
    "* all numeric feature are continous type .\n",
    "* out of all the 9 features , there are 3 featres that i need in the model and one target column called order recieving ."
   ]
  },
  {
   "cell_type": "code",
   "execution_count": 12,
   "id": "dadf26ed-4c29-4f88-be30-fdf42ab0b7bb",
   "metadata": {},
   "outputs": [
    {
     "data": {
      "text/plain": [
       "item_name          0\n",
       "unit               0\n",
       "cost per unit      0\n",
       "current_balance    0\n",
       "Consumption        0\n",
       "beganing           0\n",
       "ending             0\n",
       "COGS               0\n",
       "order receiving    0\n",
       "dtype: int64"
      ]
     },
     "execution_count": 12,
     "metadata": {},
     "output_type": "execute_result"
    }
   ],
   "source": [
    "# check the missing values in the variables \n",
    "df.isnull().sum()"
   ]
  },
  {
   "cell_type": "markdown",
   "id": "86f511e2-0ece-4df4-9ca3-2ba3a28f7038",
   "metadata": {},
   "source": [
    "### Check the distribution of variables\n",
    "\n",
    "\n",
    "* Now, I will plot the histograms to check variable distributions to find out if they are normal or skewed. "
   ]
  },
  {
   "cell_type": "code",
   "execution_count": 13,
   "id": "e3a44f58-34f8-43d6-abe2-3f2a2d794140",
   "metadata": {},
   "outputs": [
    {
     "data": {
      "image/png": "[encoded data removed]",
      "text/plain": [
       "<Figure size 360x3240 with 9 Axes>"
      ]
     },
     "metadata": {
      "needs_background": "light"
     },
     "output_type": "display_data"
    }
   ],
   "source": [
    "# plot histograms of the variables\n",
    "n_cols = len(df.columns)\n",
    "fig, axes = plt.subplots(n_cols, 1, figsize=(5, 5 * n_cols))\n",
    "for i, col in enumerate(df.columns):\n",
    "    sns.histplot(df[col], kde=True, ax=axes[i])\n",
    "    axes[i].set_title(f\"Distribution of {col}\");"
   ]
  },
  {
   "cell_type": "code",
   "execution_count": 14,
   "id": "d7440fb7-188b-4afb-9fe4-e644c1b65107",
   "metadata": {},
   "outputs": [],
   "source": [
    "df_numeric=df.select_dtypes(int)"
   ]
  },
  {
   "cell_type": "code",
   "execution_count": 15,
   "id": "b581e217-5ed9-4dc8-b7a5-d62f03a3ac00",
   "metadata": {},
   "outputs": [],
   "source": [
    "# the correlations between the features and target\n",
    "correlation = df_numeric.corr()"
   ]
  },
  {
   "cell_type": "code",
   "execution_count": 16,
   "id": "0a050367-61e4-4249-b54a-aaf6fa0c6c34",
   "metadata": {},
   "outputs": [
    {
     "data": {
      "text/plain": [
       "current_balance   -0.974261\n",
       "ending            -0.974261\n",
       "beganing          -0.572903\n",
       "Consumption        0.656935\n",
       "COGS               0.656935\n",
       "order receiving    1.000000\n",
       "cost per unit           NaN\n",
       "Name: order receiving, dtype: float64"
      ]
     },
     "execution_count": 16,
     "metadata": {},
     "output_type": "execute_result"
    }
   ],
   "source": [
    "correlation['order receiving'].sort_values(ascending=True)"
   ]
  },
  {
   "cell_type": "code",
   "execution_count": 17,
   "id": "0c058dd8-803a-46df-a865-24877c759b71",
   "metadata": {},
   "outputs": [
    {
     "data": {
      "image/png": "[encoded data removed]",
      "text/plain": [
       "<Figure size 720x576 with 2 Axes>"
      ]
     },
     "metadata": {
      "needs_background": "light"
     },
     "output_type": "display_data"
    }
   ],
   "source": [
    "# visualize the feature and targest \n",
    "plt.figure(figsize=(10,8))\n",
    "plt.title('Correlation of Attributes with order receiving variable')\n",
    "a = sns.heatmap(correlation, square=True, annot=True, fmt='.2f', linecolor='white')\n",
    "a.set_xticklabels(a.get_xticklabels(), rotation=90)\n",
    "a.set_yticklabels(a.get_yticklabels(), rotation=30)           \n",
    "plt.show()"
   ]
  },
  {
   "cell_type": "code",
   "execution_count": 20,
   "id": "71b45753-1f9a-49e8-9df7-034f29e097e6",
   "metadata": {},
   "outputs": [
    {
     "name": "stdout",
     "output_type": "stream",
     "text": [
      "Outliers per column:\n",
      "cost per unit      0\n",
      "current_balance    0\n",
      "Consumption        0\n",
      "beganing           0\n",
      "ending             0\n",
      "COGS               0\n",
      "order receiving    0\n",
      "dtype: int64\n"
     ]
    }
   ],
   "source": [
    "# outlier detection \n",
    "import numpy as np\n",
    "\n",
    "# Calculate Q1 (25th percentile) and Q3 (75th percentile)\n",
    "Q1 = df_numeric.quantile(0.25)\n",
    "Q3 = df_numeric.quantile(0.75)\n",
    "\n",
    "# Calculate IQR\n",
    "IQR = Q3 - Q1\n",
    "\n",
    "# Define the outlier range\n",
    "outliers = ((df_numeric < (Q1 - 1.5 * IQR)) | (df_numeric > (Q3 + 1.5 * IQR)))\n",
    "\n",
    "# Display the outliers\n",
    "outliers = outliers.sum()\n",
    "print(\"Outliers per column:\")\n",
    "print(outliers)"
   ]
  },
  {
   "cell_type": "code",
   "execution_count": 24,
   "id": "436606a3-c95d-4b96-8448-f9ff3b60d2a7",
   "metadata": {},
   "outputs": [],
   "source": [
    "# Split the data to x and y\n",
    "x=df_numeric.loc[:,'current_balance'].values\n",
    "y=df_numeric.iloc[:,-1].values\n",
    "x=x.reshape(-1,1)"
   ]
  },
  {
   "cell_type": "code",
   "execution_count": 50,
   "id": "c784832a-f0a0-4056-a43d-5cbe6263deca",
   "metadata": {},
   "outputs": [
    {
     "data": {
      "text/plain": [
       "array([[127],\n",
       "       [117],\n",
       "       [107],\n",
       "       [ 99],\n",
       "       [ 94],\n",
       "       [ 89],\n",
       "       [ 74],\n",
       "       [ 69],\n",
       "       [ 64],\n",
       "       [ 49],\n",
       "       [ 23],\n",
       "       [  0],\n",
       "       [150],\n",
       "       [145],\n",
       "       [137],\n",
       "       [126],\n",
       "       [120],\n",
       "       [113],\n",
       "       [ 98],\n",
       "       [ 90],\n",
       "       [ 75],\n",
       "       [ 55],\n",
       "       [ 35]])"
      ]
     },
     "execution_count": 50,
     "metadata": {},
     "output_type": "execute_result"
    }
   ],
   "source": [
    "x"
   ]
  },
  {
   "cell_type": "code",
   "execution_count": 51,
   "id": "5ef30861-c3b1-4faf-941e-4a5766386f8e",
   "metadata": {},
   "outputs": [
    {
     "data": {
      "text/plain": [
       "array([ 25,  35,  55,  57,  65,  75,  80,  85,  90,  95, 100, 150,   0,\n",
       "         5,  15,  25,  30,  40,  45,  55,  70,  85,  95])"
      ]
     },
     "execution_count": 51,
     "metadata": {},
     "output_type": "execute_result"
    }
   ],
   "source": [
    "y"
   ]
  },
  {
   "cell_type": "code",
   "execution_count": 52,
   "id": "0c3d5687-a448-4e72-ba89-624f6cb53276",
   "metadata": {},
   "outputs": [],
   "source": [
    "# spiliting the data into tarining and testing \n",
    "x_train,x_test,y_train,y_test=train_test_split(x,y,test_size=0.2,random_state=42)"
   ]
  },
  {
   "cell_type": "code",
   "execution_count": 53,
   "id": "a4ec0379-5193-4cb8-914c-6f7b613833a2",
   "metadata": {},
   "outputs": [
    {
     "data": {
      "text/plain": [
       "array([[150],\n",
       "       [117],\n",
       "       [145],\n",
       "       [ 89],\n",
       "       [107],\n",
       "       [  0],\n",
       "       [ 75],\n",
       "       [ 99],\n",
       "       [ 94],\n",
       "       [ 98],\n",
       "       [120],\n",
       "       [ 55],\n",
       "       [ 35],\n",
       "       [ 69],\n",
       "       [ 23],\n",
       "       [137],\n",
       "       [ 90],\n",
       "       [ 74]])"
      ]
     },
     "execution_count": 53,
     "metadata": {},
     "output_type": "execute_result"
    }
   ],
   "source": [
    "x_train"
   ]
  },
  {
   "cell_type": "code",
   "execution_count": 54,
   "id": "b60be4d3-fb3e-4f15-b928-697b1928fafd",
   "metadata": {},
   "outputs": [
    {
     "data": {
      "text/plain": [
       "array([[126],\n",
       "       [ 49],\n",
       "       [127],\n",
       "       [ 64],\n",
       "       [113]])"
      ]
     },
     "execution_count": 54,
     "metadata": {},
     "output_type": "execute_result"
    }
   ],
   "source": [
    "x_test"
   ]
  },
  {
   "cell_type": "code",
   "execution_count": 55,
   "id": "2a6ab0b2-09c0-42f0-8ad9-fee90ab09d39",
   "metadata": {},
   "outputs": [],
   "source": [
    "sc=StandardScaler()\n",
    "x_train_Scaled=sc.fit_transform(x_train)\n",
    "x_test_Scaled=sc.transform(x_test)"
   ]
  },
  {
   "cell_type": "code",
   "execution_count": 56,
   "id": "24d81f0d-cc72-4d2a-a652-fb77cbca2fcf",
   "metadata": {},
   "outputs": [
    {
     "data": {
      "text/html": [
       "<style>#sk-container-id-3 {\n",
       "  /* Definition of color scheme common for light and dark mode */\n",
       "  --sklearn-color-text: #000;\n",
       "  --sklearn-color-text-muted: #666;\n",
       "  --sklearn-color-line: gray;\n",
       "  /* Definition of color scheme for unfitted estimators */\n",
       "  --sklearn-color-unfitted-level-0: #fff5e6;\n",
       "  --sklearn-color-unfitted-level-1: #f6e4d2;\n",
       "  --sklearn-color-unfitted-level-2: #ffe0b3;\n",
       "  --sklearn-color-unfitted-level-3: chocolate;\n",
       "  /* Definition of color scheme for fitted estimators */\n",
       "  --sklearn-color-fitted-level-0: #f0f8ff;\n",
       "  --sklearn-color-fitted-level-1: #d4ebff;\n",
       "  --sklearn-color-fitted-level-2: #b3dbfd;\n",
       "  --sklearn-color-fitted-level-3: cornflowerblue;\n",
       "\n",
       "  /* Specific color for light theme */\n",
       "  --sklearn-color-text-on-default-background: var(--sg-text-color, var(--theme-code-foreground, var(--jp-content-font-color1, black)));\n",
       "  --sklearn-color-background: var(--sg-background-color, var(--theme-background, var(--jp-layout-color0, white)));\n",
       "  --sklearn-color-border-box: var(--sg-text-color, var(--theme-code-foreground, var(--jp-content-font-color1, black)));\n",
       "  --sklearn-color-icon: #696969;\n",
       "\n",
       "  @media (prefers-color-scheme: dark) {\n",
       "    /* Redefinition of color scheme for dark theme */\n",
       "    --sklearn-color-text-on-default-background: var(--sg-text-color, var(--theme-code-foreground, var(--jp-content-font-color1, white)));\n",
       "    --sklearn-color-background: var(--sg-background-color, var(--theme-background, var(--jp-layout-color0, #111)));\n",
       "    --sklearn-color-border-box: var(--sg-text-color, var(--theme-code-foreground, var(--jp-content-font-color1, white)));\n",
       "    --sklearn-color-icon: #878787;\n",
       "  }\n",
       "}\n",
       "\n",
       "#sk-container-id-3 {\n",
       "  color: var(--sklearn-color-text);\n",
       "}\n",
       "\n",
       "#sk-container-id-3 pre {\n",
       "  padding: 0;\n",
       "}\n",
       "\n",
       "#sk-container-id-3 input.sk-hidden--visually {\n",
       "  border: 0;\n",
       "  clip: rect(1px 1px 1px 1px);\n",
       "  clip: rect(1px, 1px, 1px, 1px);\n",
       "  height: 1px;\n",
       "  margin: -1px;\n",
       "  overflow: hidden;\n",
       "  padding: 0;\n",
       "  position: absolute;\n",
       "  width: 1px;\n",
       "}\n",
       "\n",
       "#sk-container-id-3 div.sk-dashed-wrapped {\n",
       "  border: 1px dashed var(--sklearn-color-line);\n",
       "  margin: 0 0.4em 0.5em 0.4em;\n",
       "  box-sizing: border-box;\n",
       "  padding-bottom: 0.4em;\n",
       "  background-color: var(--sklearn-color-background);\n",
       "}\n",
       "\n",
       "#sk-container-id-3 div.sk-container {\n",
       "  /* jupyter's `normalize.less` sets `[hidden] { display: none; }`\n",
       "     but bootstrap.min.css set `[hidden] { display: none !important; }`\n",
       "     so we also need the `!important` here to be able to override the\n",
       "     default hidden behavior on the sphinx rendered scikit-learn.org.\n",
       "     See: https://github.com/scikit-learn/scikit-learn/issues/21755 */\n",
       "  display: inline-block !important;\n",
       "  position: relative;\n",
       "}\n",
       "\n",
       "#sk-container-id-3 div.sk-text-repr-fallback {\n",
       "  display: none;\n",
       "}\n",
       "\n",
       "div.sk-parallel-item,\n",
       "div.sk-serial,\n",
       "div.sk-item {\n",
       "  /* draw centered vertical line to link estimators */\n",
       "  background-image: linear-gradient(var(--sklearn-color-text-on-default-background), var(--sklearn-color-text-on-default-background));\n",
       "  background-size: 2px 100%;\n",
       "  background-repeat: no-repeat;\n",
       "  background-position: center center;\n",
       "}\n",
       "\n",
       "/* Parallel-specific style estimator block */\n",
       "\n",
       "#sk-container-id-3 div.sk-parallel-item::after {\n",
       "  content: \"\";\n",
       "  width: 100%;\n",
       "  border-bottom: 2px solid var(--sklearn-color-text-on-default-background);\n",
       "  flex-grow: 1;\n",
       "}\n",
       "\n",
       "#sk-container-id-3 div.sk-parallel {\n",
       "  display: flex;\n",
       "  align-items: stretch;\n",
       "  justify-content: center;\n",
       "  background-color: var(--sklearn-color-background);\n",
       "  position: relative;\n",
       "}\n",
       "\n",
       "#sk-container-id-3 div.sk-parallel-item {\n",
       "  display: flex;\n",
       "  flex-direction: column;\n",
       "}\n",
       "\n",
       "#sk-container-id-3 div.sk-parallel-item:first-child::after {\n",
       "  align-self: flex-end;\n",
       "  width: 50%;\n",
       "}\n",
       "\n",
       "#sk-container-id-3 div.sk-parallel-item:last-child::after {\n",
       "  align-self: flex-start;\n",
       "  width: 50%;\n",
       "}\n",
       "\n",
       "#sk-container-id-3 div.sk-parallel-item:only-child::after {\n",
       "  width: 0;\n",
       "}\n",
       "\n",
       "/* Serial-specific style estimator block */\n",
       "\n",
       "#sk-container-id-3 div.sk-serial {\n",
       "  display: flex;\n",
       "  flex-direction: column;\n",
       "  align-items: center;\n",
       "  background-color: var(--sklearn-color-background);\n",
       "  padding-right: 1em;\n",
       "  padding-left: 1em;\n",
       "}\n",
       "\n",
       "\n",
       "/* Toggleable style: style used for estimator/Pipeline/ColumnTransformer box that is\n",
       "clickable and can be expanded/collapsed.\n",
       "- Pipeline and ColumnTransformer use this feature and define the default style\n",
       "- Estimators will overwrite some part of the style using the `sk-estimator` class\n",
       "*/\n",
       "\n",
       "/* Pipeline and ColumnTransformer style (default) */\n",
       "\n",
       "#sk-container-id-3 div.sk-toggleable {\n",
       "  /* Default theme specific background. It is overwritten whether we have a\n",
       "  specific estimator or a Pipeline/ColumnTransformer */\n",
       "  background-color: var(--sklearn-color-background);\n",
       "}\n",
       "\n",
       "/* Toggleable label */\n",
       "#sk-container-id-3 label.sk-toggleable__label {\n",
       "  cursor: pointer;\n",
       "  display: flex;\n",
       "  width: 100%;\n",
       "  margin-bottom: 0;\n",
       "  padding: 0.5em;\n",
       "  box-sizing: border-box;\n",
       "  text-align: center;\n",
       "  align-items: start;\n",
       "  justify-content: space-between;\n",
       "  gap: 0.5em;\n",
       "}\n",
       "\n",
       "#sk-container-id-3 label.sk-toggleable__label .caption {\n",
       "  font-size: 0.6rem;\n",
       "  font-weight: lighter;\n",
       "  color: var(--sklearn-color-text-muted);\n",
       "}\n",
       "\n",
       "#sk-container-id-3 label.sk-toggleable__label-arrow:before {\n",
       "  /* Arrow on the left of the label */\n",
       "  content: \"▸\";\n",
       "  float: left;\n",
       "  margin-right: 0.25em;\n",
       "  color: var(--sklearn-color-icon);\n",
       "}\n",
       "\n",
       "#sk-container-id-3 label.sk-toggleable__label-arrow:hover:before {\n",
       "  color: var(--sklearn-color-text);\n",
       "}\n",
       "\n",
       "/* Toggleable content - dropdown */\n",
       "\n",
       "#sk-container-id-3 div.sk-toggleable__content {\n",
       "  max-height: 0;\n",
       "  max-width: 0;\n",
       "  overflow: hidden;\n",
       "  text-align: left;\n",
       "  /* unfitted */\n",
       "  background-color: var(--sklearn-color-unfitted-level-0);\n",
       "}\n",
       "\n",
       "#sk-container-id-3 div.sk-toggleable__content.fitted {\n",
       "  /* fitted */\n",
       "  background-color: var(--sklearn-color-fitted-level-0);\n",
       "}\n",
       "\n",
       "#sk-container-id-3 div.sk-toggleable__content pre {\n",
       "  margin: 0.2em;\n",
       "  border-radius: 0.25em;\n",
       "  color: var(--sklearn-color-text);\n",
       "  /* unfitted */\n",
       "  background-color: var(--sklearn-color-unfitted-level-0);\n",
       "}\n",
       "\n",
       "#sk-container-id-3 div.sk-toggleable__content.fitted pre {\n",
       "  /* unfitted */\n",
       "  background-color: var(--sklearn-color-fitted-level-0);\n",
       "}\n",
       "\n",
       "#sk-container-id-3 input.sk-toggleable__control:checked~div.sk-toggleable__content {\n",
       "  /* Expand drop-down */\n",
       "  max-height: 200px;\n",
       "  max-width: 100%;\n",
       "  overflow: auto;\n",
       "}\n",
       "\n",
       "#sk-container-id-3 input.sk-toggleable__control:checked~label.sk-toggleable__label-arrow:before {\n",
       "  content: \"▾\";\n",
       "}\n",
       "\n",
       "/* Pipeline/ColumnTransformer-specific style */\n",
       "\n",
       "#sk-container-id-3 div.sk-label input.sk-toggleable__control:checked~label.sk-toggleable__label {\n",
       "  color: var(--sklearn-color-text);\n",
       "  background-color: var(--sklearn-color-unfitted-level-2);\n",
       "}\n",
       "\n",
       "#sk-container-id-3 div.sk-label.fitted input.sk-toggleable__control:checked~label.sk-toggleable__label {\n",
       "  background-color: var(--sklearn-color-fitted-level-2);\n",
       "}\n",
       "\n",
       "/* Estimator-specific style */\n",
       "\n",
       "/* Colorize estimator box */\n",
       "#sk-container-id-3 div.sk-estimator input.sk-toggleable__control:checked~label.sk-toggleable__label {\n",
       "  /* unfitted */\n",
       "  background-color: var(--sklearn-color-unfitted-level-2);\n",
       "}\n",
       "\n",
       "#sk-container-id-3 div.sk-estimator.fitted input.sk-toggleable__control:checked~label.sk-toggleable__label {\n",
       "  /* fitted */\n",
       "  background-color: var(--sklearn-color-fitted-level-2);\n",
       "}\n",
       "\n",
       "#sk-container-id-3 div.sk-label label.sk-toggleable__label,\n",
       "#sk-container-id-3 div.sk-label label {\n",
       "  /* The background is the default theme color */\n",
       "  color: var(--sklearn-color-text-on-default-background);\n",
       "}\n",
       "\n",
       "/* On hover, darken the color of the background */\n",
       "#sk-container-id-3 div.sk-label:hover label.sk-toggleable__label {\n",
       "  color: var(--sklearn-color-text);\n",
       "  background-color: var(--sklearn-color-unfitted-level-2);\n",
       "}\n",
       "\n",
       "/* Label box, darken color on hover, fitted */\n",
       "#sk-container-id-3 div.sk-label.fitted:hover label.sk-toggleable__label.fitted {\n",
       "  color: var(--sklearn-color-text);\n",
       "  background-color: var(--sklearn-color-fitted-level-2);\n",
       "}\n",
       "\n",
       "/* Estimator label */\n",
       "\n",
       "#sk-container-id-3 div.sk-label label {\n",
       "  font-family: monospace;\n",
       "  font-weight: bold;\n",
       "  display: inline-block;\n",
       "  line-height: 1.2em;\n",
       "}\n",
       "\n",
       "#sk-container-id-3 div.sk-label-container {\n",
       "  text-align: center;\n",
       "}\n",
       "\n",
       "/* Estimator-specific */\n",
       "#sk-container-id-3 div.sk-estimator {\n",
       "  font-family: monospace;\n",
       "  border: 1px dotted var(--sklearn-color-border-box);\n",
       "  border-radius: 0.25em;\n",
       "  box-sizing: border-box;\n",
       "  margin-bottom: 0.5em;\n",
       "  /* unfitted */\n",
       "  background-color: var(--sklearn-color-unfitted-level-0);\n",
       "}\n",
       "\n",
       "#sk-container-id-3 div.sk-estimator.fitted {\n",
       "  /* fitted */\n",
       "  background-color: var(--sklearn-color-fitted-level-0);\n",
       "}\n",
       "\n",
       "/* on hover */\n",
       "#sk-container-id-3 div.sk-estimator:hover {\n",
       "  /* unfitted */\n",
       "  background-color: var(--sklearn-color-unfitted-level-2);\n",
       "}\n",
       "\n",
       "#sk-container-id-3 div.sk-estimator.fitted:hover {\n",
       "  /* fitted */\n",
       "  background-color: var(--sklearn-color-fitted-level-2);\n",
       "}\n",
       "\n",
       "/* Specification for estimator info (e.g. \"i\" and \"?\") */\n",
       "\n",
       "/* Common style for \"i\" and \"?\" */\n",
       "\n",
       ".sk-estimator-doc-link,\n",
       "a:link.sk-estimator-doc-link,\n",
       "a:visited.sk-estimator-doc-link {\n",
       "  float: right;\n",
       "  font-size: smaller;\n",
       "  line-height: 1em;\n",
       "  font-family: monospace;\n",
       "  background-color: var(--sklearn-color-background);\n",
       "  border-radius: 1em;\n",
       "  height: 1em;\n",
       "  width: 1em;\n",
       "  text-decoration: none !important;\n",
       "  margin-left: 0.5em;\n",
       "  text-align: center;\n",
       "  /* unfitted */\n",
       "  border: var(--sklearn-color-unfitted-level-1) 1pt solid;\n",
       "  color: var(--sklearn-color-unfitted-level-1);\n",
       "}\n",
       "\n",
       ".sk-estimator-doc-link.fitted,\n",
       "a:link.sk-estimator-doc-link.fitted,\n",
       "a:visited.sk-estimator-doc-link.fitted {\n",
       "  /* fitted */\n",
       "  border: var(--sklearn-color-fitted-level-1) 1pt solid;\n",
       "  color: var(--sklearn-color-fitted-level-1);\n",
       "}\n",
       "\n",
       "/* On hover */\n",
       "div.sk-estimator:hover .sk-estimator-doc-link:hover,\n",
       ".sk-estimator-doc-link:hover,\n",
       "div.sk-label-container:hover .sk-estimator-doc-link:hover,\n",
       ".sk-estimator-doc-link:hover {\n",
       "  /* unfitted */\n",
       "  background-color: var(--sklearn-color-unfitted-level-3);\n",
       "  color: var(--sklearn-color-background);\n",
       "  text-decoration: none;\n",
       "}\n",
       "\n",
       "div.sk-estimator.fitted:hover .sk-estimator-doc-link.fitted:hover,\n",
       ".sk-estimator-doc-link.fitted:hover,\n",
       "div.sk-label-container:hover .sk-estimator-doc-link.fitted:hover,\n",
       ".sk-estimator-doc-link.fitted:hover {\n",
       "  /* fitted */\n",
       "  background-color: var(--sklearn-color-fitted-level-3);\n",
       "  color: var(--sklearn-color-background);\n",
       "  text-decoration: none;\n",
       "}\n",
       "\n",
       "/* Span, style for the box shown on hovering the info icon */\n",
       ".sk-estimator-doc-link span {\n",
       "  display: none;\n",
       "  z-index: 9999;\n",
       "  position: relative;\n",
       "  font-weight: normal;\n",
       "  right: .2ex;\n",
       "  padding: .5ex;\n",
       "  margin: .5ex;\n",
       "  width: min-content;\n",
       "  min-width: 20ex;\n",
       "  max-width: 50ex;\n",
       "  color: var(--sklearn-color-text);\n",
       "  box-shadow: 2pt 2pt 4pt #999;\n",
       "  /* unfitted */\n",
       "  background: var(--sklearn-color-unfitted-level-0);\n",
       "  border: .5pt solid var(--sklearn-color-unfitted-level-3);\n",
       "}\n",
       "\n",
       ".sk-estimator-doc-link.fitted span {\n",
       "  /* fitted */\n",
       "  background: var(--sklearn-color-fitted-level-0);\n",
       "  border: var(--sklearn-color-fitted-level-3);\n",
       "}\n",
       "\n",
       ".sk-estimator-doc-link:hover span {\n",
       "  display: block;\n",
       "}\n",
       "\n",
       "/* \"?\"-specific style due to the `<a>` HTML tag */\n",
       "\n",
       "#sk-container-id-3 a.estimator_doc_link {\n",
       "  float: right;\n",
       "  font-size: 1rem;\n",
       "  line-height: 1em;\n",
       "  font-family: monospace;\n",
       "  background-color: var(--sklearn-color-background);\n",
       "  border-radius: 1rem;\n",
       "  height: 1rem;\n",
       "  width: 1rem;\n",
       "  text-decoration: none;\n",
       "  /* unfitted */\n",
       "  color: var(--sklearn-color-unfitted-level-1);\n",
       "  border: var(--sklearn-color-unfitted-level-1) 1pt solid;\n",
       "}\n",
       "\n",
       "#sk-container-id-3 a.estimator_doc_link.fitted {\n",
       "  /* fitted */\n",
       "  border: var(--sklearn-color-fitted-level-1) 1pt solid;\n",
       "  color: var(--sklearn-color-fitted-level-1);\n",
       "}\n",
       "\n",
       "/* On hover */\n",
       "#sk-container-id-3 a.estimator_doc_link:hover {\n",
       "  /* unfitted */\n",
       "  background-color: var(--sklearn-color-unfitted-level-3);\n",
       "  color: var(--sklearn-color-background);\n",
       "  text-decoration: none;\n",
       "}\n",
       "\n",
       "#sk-container-id-3 a.estimator_doc_link.fitted:hover {\n",
       "  /* fitted */\n",
       "  background-color: var(--sklearn-color-fitted-level-3);\n",
       "}\n",
       "</style><div id=\"sk-container-id-3\" class=\"sk-top-container\"><div class=\"sk-text-repr-fallback\"><pre>LinearRegression()</pre><b>In a Jupyter environment, please rerun this cell to show the HTML representation or trust the notebook. <br />On GitHub, the HTML representation is unable to render, please try loading this page with nbviewer.org.</b></div><div class=\"sk-container\" hidden><div class=\"sk-item\"><div class=\"sk-estimator fitted sk-toggleable\"><input class=\"sk-toggleable__control sk-hidden--visually\" id=\"sk-estimator-id-3\" type=\"checkbox\" checked><label for=\"sk-estimator-id-3\" class=\"sk-toggleable__label fitted sk-toggleable__label-arrow\"><div><div>LinearRegression</div></div><div><a class=\"sk-estimator-doc-link fitted\" rel=\"noreferrer\" target=\"_blank\" href=\"https://scikit-learn.org/1.6/modules/generated/sklearn.linear_model.LinearRegression.html\">?<span>Documentation for LinearRegression</span></a><span class=\"sk-estimator-doc-link fitted\">i<span>Fitted</span></span></div></label><div class=\"sk-toggleable__content fitted\"><pre>LinearRegression()</pre></div> </div></div></div></div>"
      ],
      "text/plain": [
       "LinearRegression()"
      ]
     },
     "execution_count": 56,
     "metadata": {},
     "output_type": "execute_result"
    }
   ],
   "source": [
    "model=LinearRegression()\n",
    "model.fit(x_train_Scaled,y_train)"
   ]
  },
  {
   "cell_type": "code",
   "execution_count": 64,
   "id": "1a3ee0e9-7b51-46cf-8907-a0777f8c7a2f",
   "metadata": {},
   "outputs": [],
   "source": [
    "y_pred=model.predict(x_test_Scaled) \n",
    "y_pred2=model.predict(x_train_Scaled)"
   ]
  },
  {
   "cell_type": "code",
   "execution_count": 65,
   "id": "7e8f111d-2d2f-4730-bee7-f83d7c9cf3f3",
   "metadata": {},
   "outputs": [
    {
     "data": {
      "text/plain": [
       "array([27.54635709, 95.09302724, 26.66912761, 81.934585  , 38.95034036])"
      ]
     },
     "execution_count": 65,
     "metadata": {},
     "output_type": "execute_result"
    }
   ],
   "source": [
    "y_pred"
   ]
  },
  {
   "cell_type": "code",
   "execution_count": 61,
   "id": "ffc74392-68fd-42f5-b860-f2e9bb6537d8",
   "metadata": {},
   "outputs": [
    {
     "data": {
      "text/plain": [
       "array([25, 95, 25, 90, 40])"
      ]
     },
     "execution_count": 61,
     "metadata": {},
     "output_type": "execute_result"
    }
   ],
   "source": [
    "y_test"
   ]
  },
  {
   "cell_type": "code",
   "execution_count": 67,
   "id": "fab00a00-1c1f-46db-bc81-f286c981c564",
   "metadata": {},
   "outputs": [],
   "source": [
    "accuracy_of_testing=r2_score(y_test,y_pred)\n",
    "accuracy_of_training=r2_score(y_train,y_pred2)"
   ]
  },
  {
   "cell_type": "code",
   "execution_count": 69,
   "id": "11730e0a-6d8a-43ee-94b4-79383edca855",
   "metadata": {},
   "outputs": [
    {
     "data": {
      "text/plain": [
       "0.984447158767351"
      ]
     },
     "execution_count": 69,
     "metadata": {},
     "output_type": "execute_result"
    }
   ],
   "source": [
    "accuracy_of_testing"
   ]
  },
  {
   "cell_type": "code",
   "execution_count": 73,
   "id": "89badcf2-c316-41ce-80d4-f5d998006cc5",
   "metadata": {},
   "outputs": [
    {
     "data": {
      "text/plain": [
       "0.9413522725774566"
      ]
     },
     "execution_count": 73,
     "metadata": {},
     "output_type": "execute_result"
    }
   ],
   "source": [
    "accuracy_of_training"
   ]
  },
  {
   "cell_type": "code",
   "execution_count": null,
   "id": "9abf2649-9790-4328-b624-f84ff5832b44",
   "metadata": {},
   "outputs": [],
   "source": []
  }
 ],
 "metadata": {
  "kernelspec": {
   "display_name": "Python 3 (ipykernel)",
   "language": "python",
   "name": "python3"
  },
  "language_info": {
   "codemirror_mode": {
    "name": "ipython",
    "version": 3
   },
   "file_extension": ".py",
   "mimetype": "text/x-python",
   "name": "python",
   "nbconvert_exporter": "python",
   "pygments_lexer": "ipython3",
   "version": "3.13.1"
  }
 },
 "nbformat": 4,
 "nbformat_minor": 5
}
